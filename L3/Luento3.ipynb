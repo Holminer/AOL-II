{
 "cells": [
  {
   "cell_type": "markdown",
   "metadata": {
    "slideshow": {
     "slide_type": "slide"
    }
   },
   "source": [
    "# FYS2009 - Aineopintojen laboratoriotyöt II\n",
    "---\n",
    "**26.3.2019**"
   ]
  },
  {
   "cell_type": "markdown",
   "metadata": {
    "slideshow": {
     "slide_type": "skip"
    }
   },
   "source": [
    "---\n",
    "\n",
    "---"
   ]
  },
  {
   "cell_type": "markdown",
   "metadata": {
    "slideshow": {
     "slide_type": "slide"
    }
   },
   "source": [
    "# AOL II.2 \"Hehkulamppu\"\n",
    "---\n",
    "Laskarien deadline 7.4. & selkkarin deadline 14.4.\n",
    "\n",
    "Huom! paljon uusia ja tuttuja yksikköjä ... keskitytään oleelliseen. Mietitään, mikä kaikki säilyy vakiona ja voidaan redusoida vain yhdeksi mittausta määrittäväksi vakiokertoimeksi.\n",
    "\n",
    "## Mustan kappaleen säteily ja mittaaminen\n",
    "## Numeerinen integorinti ja interpolointi"
   ]
  },
  {
   "cell_type": "markdown",
   "metadata": {
    "slideshow": {
     "slide_type": "skip"
    }
   },
   "source": [
    "---\n",
    "\n",
    "---"
   ]
  },
  {
   "cell_type": "markdown",
   "metadata": {
    "slideshow": {
     "slide_type": "slide"
    }
   },
   "source": [
    "## Mustan kappaleen säteily\n",
    "\n",
    "<img src=\"SpectralRadiance.png\" width=\"800\">"
   ]
  },
  {
   "cell_type": "markdown",
   "metadata": {
    "slideshow": {
     "slide_type": "subslide"
    }
   },
   "source": [
    "### Mustan kappaleen säteily - Stefan-Bolzmannin laki\n",
    "\n",
    "$$j^* = \\varepsilon \\sigma T^4$$ missä:\n",
    "\n",
    "- $j^*$ säteilyteho pinta-alayksikköä kohden\n",
    "- $\\varepsilon \\leq 1$ emissiivisyys, mustalle kappaleelle $\\varepsilon = 1$\n",
    "- $\\sigma$ Stefan–Boltzmannin vakio\n",
    "    - $\\sigma \\approx 5,67 \\cdot 10^{-8} \\; \\mathrm{W} / \\mathrm{m^2 K^4} $\n",
    "- $T$ kappaleen lämpötila\n",
    "---\n",
    "- Tehollinen tarkastelu: $P = A \\varepsilon \\sigma T^4$, missä $A$ on kappaleen pinta-ala"
   ]
  },
  {
   "cell_type": "markdown",
   "metadata": {
    "slideshow": {
     "slide_type": "subslide"
    }
   },
   "source": [
    "### Mustan kappaleen säteily - Planckin laki\n",
    "\n",
    "$$B_{\\nu}(\\nu,T) =\\dfrac{2h\\nu^3}{c^2}\\dfrac{1}{\\exp\\left(\\frac{h\\nu}{kT}\\right)-1}$$ missä\n",
    "\n",
    "- $B_{\\nu}$ spektrinen radianssi\n",
    "- $h$ Plankcin vakio\n",
    "- $c$ valonnopeus\n",
    "- $k$ Boltzmannin vakio\n",
    "- $\\nu$ säteilyn taajuus\n",
    "- $T$ kappaleen lämpötila\n",
    "\n",
    "---\n",
    "\n",
    "- radianssi $L=\\int B_\\nu \\mathrm{d}\\nu$\n",
    "- $[L]=\\mathrm{W}/\\mathrm{m^2}\\mathrm{sr}$"
   ]
  },
  {
   "cell_type": "markdown",
   "metadata": {
    "slideshow": {
     "slide_type": "subslide"
    }
   },
   "source": [
    "#### Plackin laki aallonpituuden funktiona\n",
    "\n",
    "Kokonaisenergia välillä $(\\nu,\\nu+\\mathrm{d}\\nu)$ tai vastaavalla välillä $(\\lambda,\\lambda+\\mathrm{d}\\lambda)$ on\n",
    "\n",
    "$$ \\begin{align} E(\\nu,\\nu+\\mathrm{d}\\nu) &= E(\\lambda,\\lambda+\\mathrm{d}\\lambda) \\\\ B_\\nu(\\nu,T) \\; \\mathrm{d}\\nu &= -B_\\lambda(\\lambda,T)\\;\\mathrm{d}\\lambda \\end{align} $$\n",
    "\n",
    "\n",
    "Muistetaan, että $\\nu = \\dfrac{c}{\\lambda}$, joten $\\mathrm{d}\\nu = - c\\dfrac{\\mathrm{d}\\lambda}{\\lambda^2}$. Tällöin Planckin laki aallonpituuden funktiona on muotoa\n",
    "\n",
    "$$B_{\\lambda}(\\lambda,T)=\\dfrac{2hc^2}{\\lambda^5}\\dfrac{1}{\\exp\\left(\\frac{hc}{\\lambda kT}\\right)-1}$$\n"
   ]
  },
  {
   "cell_type": "markdown",
   "metadata": {
    "slideshow": {
     "slide_type": "subslide"
    }
   },
   "source": [
    "### Valoanturi\n",
    "- Valoanturi on säteilymittari, joka on tehty mittaamaan väkyvää valoa.\n",
    "- Mittarin vaste- tai herkkyyskäyrä kertoo aallonpituuden funktiona, miten suuren osan säteilystä mittari mittaa.\n",
    "- Oletetaan musta kappale jonka $T=3000 \\; \\mathrm{K}$ ja säteilymittari, jonka vastefunktio on normaalijakautunut parametreilla $\\mu = 600 \\; \\mathrm{nm}$ ja $\\sigma = 100 \\; \\mathrm{nm}$\n",
    "    - (Vaste mielikuvituksellinen eikä vastaa laboratoriossa käytettävän mittarin vastetta!)\n",
    "<img src=\"ResponseFunction.png\" width=\"800\">\n",
    "- Huom. Kaikki tähän asti laskennallista eli voidaan laskea ennuste mitatulle spektrille ja täten mittalaitteen näyttämälle arvolle!"
   ]
  },
  {
   "cell_type": "markdown",
   "metadata": {
    "slideshow": {
     "slide_type": "subslide"
    }
   },
   "source": [
    "### Systeemi\n",
    "- säteilevä musta kappale\n",
    "- valoanturi ~ _mittayksikkönä_ lux\n",
    "    - herkkyys aallonpituuden funktiona\n",
    "- mittausgeometrian vakionti:\n",
    "    - mustan kappaleen pinta-ala\n",
    "    - valoanturin pinta-ala\n",
    "    - valoanturin etäisyys\n",
    "    - valoanturin asento suhteessa mustaan kappaleeseen\n",
    "- jos geometria on vakioitu:\n",
    "    - lämpötilasta riippumatta **vakio osuus** mustankappaleen säteilystä päätyy anturille\n",
    "    - anturin herkkyydellä kerrottuna ja geometrisilla vakiolla korjattuna mustan kappaleen radianssi $L$ suoraan verrannollinen havaittavaan valaistusvoimakkuuteen $E_v$"
   ]
  },
  {
   "cell_type": "markdown",
   "metadata": {
    "slideshow": {
     "slide_type": "subslide"
    }
   },
   "source": [
    "### Mittaukset\n",
    "- Ohmin laki $U = RI$\n",
    "- Teho $P = UI$\n",
    "- $L_\\mathrm{teoreettinen} ~~ \\mathrm{ vs.} ~~ L_\\mathrm{kokeellinen}$\n",
    "\n",
    "<img src=\"Piiri.png\" width=\"600\">"
   ]
  },
  {
   "cell_type": "markdown",
   "metadata": {
    "slideshow": {
     "slide_type": "slide"
    }
   },
   "source": [
    "## Numeerinen integrointi\n",
    "\n",
    "- Oletetaan, että käyrän alle jäävä pinta-ala on suunnilleen yhtä suuri kuin samaan kohtaan sovitetun muodon pinta-ala.\n",
    "- Laskemalla riittävän usean muodon pinta-alan summa, voidaan numeerisesti integroida hankalia tai tuntemattomia yhtälöitä.\n",
    "- Erilaisia menetelmiä muodon perusteella:\n",
    "    - Riemannin summa\n",
    "    - Simpsonin menetelmä\n",
    "    - Puolisuunnikassääntö\n",
    "    - yms."
   ]
  },
  {
   "cell_type": "markdown",
   "metadata": {
    "slideshow": {
     "slide_type": "subslide"
    }
   },
   "source": [
    "### Puolisuunnikassääntö\n",
    "$$ \\int_a^b f(x)\\mathrm{d}x \\approx \\sum_{k=1}^N \\dfrac{f(x_{k-1})+f(x_k)}{2}\\Delta x_k $$"
   ]
  },
  {
   "cell_type": "code",
   "execution_count": 2,
   "metadata": {
    "slideshow": {
     "slide_type": "skip"
    }
   },
   "outputs": [],
   "source": [
    "from IPython.display import IFrame\n",
    "puolisuunnikas = \"https://www.geogebra.org/material/iframe/id/xd8t5gkz/width/800/height/500/border/888888/rc/false/ai/false/sdz/false/smb/false/stb/false/stbh/false/ld/false/sri/false\""
   ]
  },
  {
   "cell_type": "code",
   "execution_count": 3,
   "metadata": {
    "slideshow": {
     "slide_type": "fragment"
    }
   },
   "outputs": [
    {
     "data": {
      "text/html": [
       "\n",
       "        <iframe\n",
       "            width=\"800\"\n",
       "            height=\"500\"\n",
       "            src=\"https://www.geogebra.org/material/iframe/id/xd8t5gkz/width/800/height/500/border/888888/rc/false/ai/false/sdz/false/smb/false/stb/false/stbh/false/ld/false/sri/false\"\n",
       "            frameborder=\"0\"\n",
       "            allowfullscreen\n",
       "        ></iframe>\n",
       "        "
      ],
      "text/plain": [
       "<IPython.lib.display.IFrame at 0x7fc47815dda0>"
      ]
     },
     "execution_count": 3,
     "metadata": {},
     "output_type": "execute_result"
    }
   ],
   "source": [
    "IFrame(puolisuunnikas, width=800, height=500)"
   ]
  },
  {
   "cell_type": "markdown",
   "metadata": {
    "slideshow": {
     "slide_type": "subslide"
    }
   },
   "source": [
    "### Python-esimerkki numeerisesta integroinnista\n",
    "Ilmakehästä mitattua aerosolihiukkaspopulaatiota hiukkasmuodostuksen aikana voi kuvata kaksihuippuisella lognormaalilla jakaumalla."
   ]
  },
  {
   "cell_type": "code",
   "execution_count": 4,
   "metadata": {
    "slideshow": {
     "slide_type": "subslide"
    }
   },
   "outputs": [],
   "source": [
    "# -*- coding: utf-8 -*-\n",
    "\n",
    "# ladataan pakolliset kirjastot\n",
    "import numpy as np\n",
    "from scipy.stats import lognorm\n",
    "import matplotlib.pyplot as plt\n",
    "\n",
    "# hiukkasen halkaisija logaritmisin stepein\n",
    "dp=10.**(np.arange(np.log10(1e-9),np.log10(1e-6),0.001))\n",
    "\n",
    "# jakauman tunnusarvot\n",
    "s=np.log(3)\n",
    "mu1=np.log(5e-7)\n",
    "mu2=np.log(1e-9)"
   ]
  },
  {
   "cell_type": "code",
   "execution_count": 5,
   "metadata": {
    "slideshow": {
     "slide_type": "subslide"
    }
   },
   "outputs": [],
   "source": [
    "# Isommat hiukkaset\n",
    "pd_big = lognorm.pdf(dp,s,loc=0, scale = np.exp(mu1))\n",
    "pd_big = pd_big/max(pd_big)/500\n",
    "\n",
    "# Pienemmät hiukkaset\n",
    "pd_small = lognorm.pdf(dp,s,loc=0, scale = np.exp(mu2))\n",
    "pd_small = pd_small/max(pd_small)\n",
    "\n",
    "# Yhteensä pd as particle_distribution\n",
    "pd=pd_big+pd_small\n",
    "\n",
    "def plot1():\n",
    "    plt.loglog(dp,pd)\n",
    "    plt.xlabel(\"Halkaisija (m)\", fontsize = 12)\n",
    "    plt.ylabel(\"Pitoisuus (mielivaltainen yksikkö)\", fontsize = 12)\n",
    "    plt.show()"
   ]
  },
  {
   "cell_type": "code",
   "execution_count": 6,
   "metadata": {
    "slideshow": {
     "slide_type": "subslide"
    }
   },
   "outputs": [
    {
     "data": {
      "image/png": "[encoded data removed]",
      "text/plain": [
       "<Figure size 432x288 with 1 Axes>"
      ]
     },
     "metadata": {},
     "output_type": "display_data"
    }
   ],
   "source": [
    "plot1()"
   ]
  },
  {
   "cell_type": "markdown",
   "metadata": {
    "slideshow": {
     "slide_type": "subslide"
    }
   },
   "source": [
    "#### Hiukkaslaskuri laskee hiukkasia kokoriippuvaisesti seuraavan parametrisaation mukaan\n",
    "\n",
    "$$\\eta_{\\mathrm{act}}(D_p)=1-\\exp\\left(-\\ln{2}\\frac{D_p-D_{p,0}}{D_{p,50}-D_{p,0}}\\right),$$\n",
    "\n",
    "missä\n",
    "- $\\eta_{\\mathrm{act}}(D_p)$ on hiukkasen halkaisijasta riippuva havaintotehokkuus (0-100%)\n",
    "- $D_p$ on halkaisija\n",
    "- $D_{p,0}$ on halkaisija jossa havaintotehokkuus on 0\n",
    "- $D_{p,50}$ on halkaisija jossa havaintotehokkuus on 50%"
   ]
  },
  {
   "cell_type": "code",
   "execution_count": 7,
   "metadata": {
    "slideshow": {
     "slide_type": "subslide"
    }
   },
   "outputs": [],
   "source": [
    "# hiukkaslaskurin havaintotehokkuuskäyrä halkaisijan funktiona\n",
    "# piste jossa havaintotehokkuus on 0\n",
    "dp0=5.0e-9\n",
    "\n",
    "# piste jossa havaintotehokkuus on 50%\n",
    "dp50=7.0e-9;\n",
    "\n",
    "#käyrän parametrisaatio\n",
    "# de as detection_efficiency\n",
    "de=1-np.exp(-np.log(2)*(dp-dp0)/(dp50-dp0))\n",
    "# stolzenburg & mcmurry, 1991, aerosol science and technology\n",
    "\n",
    "# aseta negatiiviset arvot nollaksi\n",
    "de[de < 0] = 0"
   ]
  },
  {
   "cell_type": "code",
   "execution_count": 8,
   "metadata": {
    "slideshow": {
     "slide_type": "subslide"
    }
   },
   "outputs": [
    {
     "data": {
      "image/png": "[encoded data removed]",
      "text/plain": [
       "<Figure size 432x288 with 1 Axes>"
      ]
     },
     "metadata": {},
     "output_type": "display_data"
    }
   ],
   "source": [
    "plt.loglog(dp,de)\n",
    "plt.xlabel(\"Halkaisija (m)\", fontsize = 12)\n",
    "plt.ylabel(\"Havaintotehokkuus \\n (mielivaltainen yksikkö)\", fontsize = 12)\n",
    "plt.show()"
   ]
  },
  {
   "cell_type": "markdown",
   "metadata": {
    "slideshow": {
     "slide_type": "subslide"
    }
   },
   "source": [
    "#### Kuinka suuren osan hiukkasista hiukkaslaskuri mittaa?"
   ]
  },
  {
   "cell_type": "code",
   "execution_count": 9,
   "metadata": {
    "slideshow": {
     "slide_type": "fragment"
    }
   },
   "outputs": [
    {
     "name": "stdout",
     "output_type": "stream",
     "text": [
      "Havaittujen osuus 48.8 %\n"
     ]
    }
   ],
   "source": [
    "# mitatut hidut\n",
    "# det as detected particles\n",
    "det=pd*de\n",
    "\n",
    "# hiukkasia yhteensä\n",
    "c_tot=np.trapz(pd,dp)\n",
    "c_det=np.trapz(det,dp)\n",
    "detected_fraction=c_det/c_tot\n",
    "\n",
    "print('Havaittujen osuus {} %'.format(round(detected_fraction,3)*100))"
   ]
  },
  {
   "cell_type": "code",
   "execution_count": 10,
   "metadata": {
    "slideshow": {
     "slide_type": "subslide"
    }
   },
   "outputs": [
    {
     "data": {
      "image/png": "[encoded data removed]",
      "text/plain": [
       "<Figure size 432x288 with 1 Axes>"
      ]
     },
     "metadata": {},
     "output_type": "display_data"
    }
   ],
   "source": [
    "plt.loglog(dp,pd,label=\"Hiukkasjakauma\")\n",
    "plt.loglog(dp,de,label=\"Havaintotehokkuus\")\n",
    "plt.loglog(dp,det,label=\"Havaitut hiukkaset\")\n",
    "plt.xlabel(\"Halkaisija (m)\", fontsize = 12)\n",
    "plt.ylabel(\"Pitoisuus tai \\n Havaintotehokkuus \\n (mielivaltainen yksikkö)\", fontsize = 12)\n",
    "plt.legend(loc='upper right', shadow=True, fontsize = 12)\n",
    "plt.show()"
   ]
  },
  {
   "cell_type": "markdown",
   "metadata": {
    "slideshow": {
     "slide_type": "subslide"
    }
   },
   "source": [
    "#### Kuinka suuri osa havaituista hiukkasista on kooltaan 50 – 100 nm?"
   ]
  },
  {
   "cell_type": "code",
   "execution_count": 11,
   "metadata": {
    "slideshow": {
     "slide_type": "fragment"
    }
   },
   "outputs": [
    {
     "name": "stdout",
     "output_type": "stream",
     "text": [
      "Hiukkasia välillä 50-100 nm 6.6 %\n"
     ]
    }
   ],
   "source": [
    "# etsitään niiden indeksien väli, joilla halkaisija halutulla välillä\n",
    "index50to100=np.where((dp<=100e-9) & (dp>=50e-9))\n",
    "\n",
    "# integroinnin ala ja ylärajojen indexit ll=lower limit, ul upper limit\n",
    "ll=index50to100[0][0]\n",
    "ul=index50to100[0][-1]\n",
    "\n",
    "#havaitut hidut välillä 50-100 nm\n",
    "c_50to100=np.trapz(det[ll:ul],dp[ll:ul])\n",
    "detected_fraction_50to100=c_50to100/c_det\n",
    "\n",
    "print('Hiukkasia välillä 50-100 nm {:.1f} %'.format(round(detected_fraction_50to100,3)*100))"
   ]
  },
  {
   "cell_type": "code",
   "execution_count": 12,
   "metadata": {
    "slideshow": {
     "slide_type": "subslide"
    }
   },
   "outputs": [
    {
     "data": {
      "image/png": "[encoded data removed]",
      "text/plain": [
       "<Figure size 432x288 with 1 Axes>"
      ]
     },
     "metadata": {},
     "output_type": "display_data"
    }
   ],
   "source": [
    "plt.loglog(dp,det)\n",
    "plt.fill_between(dp, det, where=((dp>50e-9)&(dp<100e-9)))\n",
    "plt.xlabel(\"Halkaisija (m)\", fontsize = 12)\n",
    "plt.ylabel(\"Havaittu pitoisuus \\n (mielivaltainen yksikkö)\", fontsize = 12)\n",
    "plt.show()"
   ]
  },
  {
   "cell_type": "markdown",
   "metadata": {
    "slideshow": {
     "slide_type": "subslide"
    }
   },
   "source": [
    "##  Datan interpolaatio\n",
    "\n",
    "- Joskus on ongelmana, että kahden eri datasetin x-akselit saavat eri arvoja, esim. mitatuissa aikasarjoissa on eri aikaresoluutio.\n",
    "- Yksi tapa päästä ongelmasta eroon on interpoloida toinen datasetti ensimmäisen x-akselille.\n",
    "- Tapoja on monia https://en.wikipedia.org/wiki/Interpolation\n",
    "    - Lähimmän naapurin interpolaatio\n",
    "    - Lineaarinen interpolaatio\n",
    "    - Polynominen interpolaatio\n",
    "    - Spline interpolaatio"
   ]
  },
  {
   "cell_type": "markdown",
   "metadata": {
    "slideshow": {
     "slide_type": "subslide"
    }
   },
   "source": [
    "###  Python-esimerkki datan interpolaatiosta\n",
    "\n",
    "- Ongelmana on, että kokeellisella havaintotehokkuus-käyrällä on erilainen x-akseli kuin hiukkaskokojakaumalla.\n",
    "- Pitäisi saada havaintotehokkuuskäyrään pisteitä muillakin x:n arvoilla, kuin mitä datassa on valmiina."
   ]
  },
  {
   "cell_type": "code",
   "execution_count": 16,
   "metadata": {
    "slideshow": {
     "slide_type": "fragment"
    }
   },
   "outputs": [],
   "source": [
    "# Hiukkasten jakauma\n",
    "dp_sd = 10.**(np.arange(np.log10(1e-9),np.log10(1e-6),0.001))\n",
    "\n",
    "# luetaan erillisestä tekstitiedostosta havaintotehokkuuden sisältö sarakevektoreiksi\n",
    "data = np.genfromtxt(\"luento2esimdata.txt\", dtype=float, comments='#', delimiter=\",\")\n",
    "dp = data[:,0]*1e-9 # halkaisija [nm]\n",
    "det = data[:,1] # havaintotehokkuus [%]\n",
    "\n",
    "def plot2():\n",
    "    plt.plot(dp,det,'.')\n",
    "    plt.xlabel(\"Halkaisija (m)\", fontsize = 12)\n",
    "    plt.ylabel(\"Havaintotehokkuus\", fontsize = 12)\n",
    "    plt.show()"
   ]
  },
  {
   "cell_type": "code",
   "execution_count": 17,
   "metadata": {
    "slideshow": {
     "slide_type": "subslide"
    }
   },
   "outputs": [
    {
     "data": {
      "image/png": "[encoded data removed]",
      "text/plain": [
       "<Figure size 432x288 with 1 Axes>"
      ]
     },
     "metadata": {},
     "output_type": "display_data"
    }
   ],
   "source": [
    "plot2()"
   ]
  },
  {
   "cell_type": "code",
   "execution_count": 18,
   "metadata": {
    "collapsed": true,
    "slideshow": {
     "slide_type": "subslide"
    }
   },
   "outputs": [],
   "source": [
    "# ladataan interpolointia varten sopivat kirjastot\n",
    "from scipy.interpolate import interp1d,splrep,splev\n",
    "\n",
    "# interpoloi havaintotehokkuusdata hiukkaskokojakaumaan sopivalle x-akselille\n",
    "# huom lineaarinen interpolaatio antaa NaN arvoja x-arvoilla joille ei ole dataa\n",
    "# spline taas antaa y arvoja koko x alueelle, mutta datan ulkopuolella niihin ei kannata uskoa\n",
    "det_int_linear=interp1d(dp,det,bounds_error=False)\n",
    "det_int_spline=splrep(dp,det)\n",
    "\n",
    "linearInterpolation = det_int_linear(dp_sd)\n",
    "splineInterpolation = splev(dp_sd,det_int_spline)"
   ]
  },
  {
   "cell_type": "code",
   "execution_count": 22,
   "metadata": {
    "slideshow": {
     "slide_type": "skip"
    }
   },
   "outputs": [],
   "source": [
    "# ladataan sublplottausta varten muutama paketti\n",
    "from mpl_toolkits.axes_grid1.inset_locator import inset_axes\n",
    "from mpl_toolkits.axes_grid1.inset_locator import mark_inset"
   ]
  },
  {
   "cell_type": "code",
   "execution_count": 23,
   "metadata": {
    "slideshow": {
     "slide_type": "skip"
    }
   },
   "outputs": [],
   "source": [
    "def plot3():\n",
    "    # opetellaan samalla hieman subplottausta\n",
    "\n",
    "    # tehdään uusi kuva default subblotilla 111\n",
    "    fig, ax = plt.subplots(figsize=[8,5])\n",
    "\n",
    "    # valitaan esitettävä data kuvaajaan\n",
    "    ax.plot(dp, det, 'o',label='Data')\n",
    "    ax.plot(dp_sd,linearInterpolation,'-',label='Lineaarinen interpolointi')\n",
    "    ax.plot(dp_sd,splineInterpolation,'-',label='Spline interpolointi')\n",
    "\n",
    "    # rajataan kuvan akselit\n",
    "    plt.axis([1e-9,6e-9,0,2])\n",
    "\n",
    "    # nimetään akselit ja asetetaan selite\n",
    "    plt.xlabel(\"Halkaisija (m)\", fontsize = 12)\n",
    "    plt.ylabel(\"Havaintotehokkuus\", fontsize = 12)\n",
    "    plt.legend(loc='upper right', shadow=True, fontsize = 12)\n",
    "\n",
    "    # tehdään kuvaajan sisään pienempi kuvaaja\n",
    "    #  2.75 kertainen suurennos x-akselille ja 1.75 y-akselille\n",
    "    axins = inset_axes(ax, 2.75,1.75 , loc=2)\n",
    "\n",
    "    # valitaan siin esitettävä data\n",
    "    axins.plot(dp, det, 'o')\n",
    "    axins.plot(dp_sd,det_int_linear(dp_sd),'-')\n",
    "    axins.plot(dp_sd,splev(dp_sd,det_int_spline),'-')\n",
    "\n",
    "    # rajataan pikkukuvan akselit\n",
    "    x1, x2, y1, y2 = 1.7e-9, 2.1e-9, 0.25, 0.8\n",
    "    axins.set_xlim(x1, x2)\n",
    "    axins.set_ylim(y1, y2)\n",
    "\n",
    "    # asetetaan akselien skaala pois häiritsemästä\n",
    "    plt.xticks(visible=False)\n",
    "    plt.yticks(visible=False)\n",
    "\n",
    "    # liitetään pikkukuva ja alkuperäinen yhteen graafisesti\n",
    "    # eli esitetään alkuperäisessä kuvaajassa alue, josta\n",
    "    # pikkukuva on esitetty ja yhdistetään nämä viivoilla\n",
    "    mark_inset(ax, axins, loc1=3, loc2=4, fc=\"none\", ec=\"0.5\")\n",
    "\n",
    "    plt.show()"
   ]
  },
  {
   "cell_type": "code",
   "execution_count": 24,
   "metadata": {
    "slideshow": {
     "slide_type": "subslide"
    }
   },
   "outputs": [
    {
     "data": {
      "image/png": "[encoded data removed]",
      "text/plain": [
       "<Figure size 576x360 with 2 Axes>"
      ]
     },
     "metadata": {},
     "output_type": "display_data"
    }
   ],
   "source": [
    "plot3()"
   ]
  },
  {
   "cell_type": "markdown",
   "metadata": {
    "slideshow": {
     "slide_type": "subslide"
    }
   },
   "source": [
    "####  Datan interpolaatio teorian avulla\n",
    "- Sovitetaan teorian $f(x) = c \\cdot\\exp(-e^{-a(x-b)})$ mukainen funktio.\n",
    "- Voidaan sekä interpoloida ja extrapoloida"
   ]
  },
  {
   "cell_type": "code",
   "execution_count": 80,
   "metadata": {
    "slideshow": {
     "slide_type": "fragment"
    }
   },
   "outputs": [],
   "source": [
    "# ladataan jälleen lisää tarvittavia paketteja\n",
    "from scipy.optimize import curve_fit\n",
    "\n",
    "# ja määritetään funktio, joka on teorian arvauksen mukainen\n",
    "def fit_func (x,a,b,c):\n",
    "    return c*np.exp(-np.exp(-a*(x-b)))\n",
    "\n",
    "# fittaus toimii huonosti kun yksikkönä on metrit, \n",
    "# koska arvot niin pieniä, että tulee herkästi overflow,\n",
    "# muutetaan siksi nanometreiksi jolloin fittaus toimii ongelmitta.\n",
    "\n",
    "popt, pcov = curve_fit(fit_func, dp*1e9, det)\n",
    "a,b,c=popt\n",
    "\n",
    "# Nyt saadaan järkeviä arvoja myös datan ulkopuolelle,\n",
    "# jos ja kun funktiomuoto tiedetään ennalta"
   ]
  },
  {
   "cell_type": "code",
   "execution_count": 81,
   "metadata": {
    "slideshow": {
     "slide_type": "subslide"
    }
   },
   "outputs": [
    {
     "data": {
      "image/png": "[encoded data removed]",
      "text/plain": [
       "<Figure size 432x288 with 1 Axes>"
      ]
     },
     "metadata": {},
     "output_type": "display_data"
    }
   ],
   "source": [
    "plt.semilogx(dp*1e9,det,'o',label=\"Data\")\n",
    "plt.semilogx(dp_sd*1e9,fit_func(dp_sd*1e9,a,b,c),label=r\"$c \\cdot \\exp \\left(-e^{-a \\cdot (x-b)}\\right)$\")\n",
    "plt.xlabel(\"Halkaisija (nm)\", fontsize = 12)\n",
    "plt.ylabel(\"Havaintotehokkuus\", fontsize = 12)\n",
    "plt.legend(loc='best', shadow=True, fontsize = 12)\n",
    "plt.show()"
   ]
  },
  {
   "cell_type": "markdown",
   "metadata": {
    "slideshow": {
     "slide_type": "skip"
    }
   },
   "source": [
    "- Nyt havaintotehokkuuskäyrä on interpoloitu uudelle x-akselille, harjoitustehtäväksi jää tutkailla havaittujen hiukkasten määrää"
   ]
  }
 ],
 "metadata": {
  "kernelspec": {
   "display_name": "Python 3",
   "language": "python",
   "name": "python3"
  },
  "language_info": {
   "codemirror_mode": {
    "name": "ipython",
    "version": 3
   },
   "file_extension": ".py",
   "mimetype": "text/x-python",
   "name": "python",
   "nbconvert_exporter": "python",
   "pygments_lexer": "ipython3",
   "version": "3.6.1"
  },
  "livereveal": {
   "autolaunch": true
  }
 },
 "nbformat": 4,
 "nbformat_minor": 2
}
