{
 "cells": [
  {
   "cell_type": "markdown",
   "metadata": {
    "slideshow": {
     "slide_type": "slide"
    }
   },
   "source": [
    "# FYS2009 - Aineopintojen laboratoriotyöt II\n",
    "---\n",
    "**12.3.2019**"
   ]
  },
  {
   "cell_type": "markdown",
   "metadata": {
    "slideshow": {
     "slide_type": "subslide"
    }
   },
   "source": [
    "## Käytönnön info\n",
    "- Luennot\n",
    "    - tiistaisin klo 10-12\n",
    "    - D208\n",
    "    - Henri Lommi\n",
    "- Laboratoriovuorot\n",
    "    - A209\n",
    "    - Lauri Ahonen\n",
    "    - Aslak Fellman\n",
    "    - Aki Lahtinen\n",
    "    - Petri Clusius\n",
    "- Samat ryhmät kurssilla AOL I\n",
    "    - Yhteys luennoitsijaan, jos sinulla ei ole ryhmää\n",
    "- Laskarien ja selostusten palautus Moodleen\n",
    "    - su 23:55 mennessä\n",
    "    - aloita hyvissä ajoin!"
   ]
  },
  {
   "cell_type": "markdown",
   "metadata": {
    "slideshow": {
     "slide_type": "subslide"
    }
   },
   "source": [
    "## Aikataulu\n",
    "\n",
    "| vko | aihe                    |         deadline |\n",
    "|-----|-------------------------|------------------|\n",
    "| 11  | AOL II.1 Paistinpannu   |                  |\n",
    "| 12  | AOL II.1 Paistinpannu   | 24.3. Laskari 1  |\n",
    "| 13  | AOL II.2 Hehkulamppu    | 31.3. Selkkari 1 |\n",
    "| 14  | AOL II.2 Hehkulamppu    | 07.4. Laskari 2  |\n",
    "| 15  | AOL II.3.Faradayn ilmiö | 14.4. Selkkari 2 |\n",
    "| 16  | Vain luento             | tauko 18.-24.4.  |\n",
    "| 17  | Vain labrat             | 28.4. Laskari 3  |\n",
    "| 18  | AOL II.3.Faradayn ilmiö | 05.5. Selkkari 3 |"
   ]
  },
  {
   "cell_type": "markdown",
   "metadata": {
    "slideshow": {
     "slide_type": "subslide"
    }
   },
   "source": [
    "## Tavoitteet\n",
    "- Kurssilla harjoitellaan fyysikolle tarpeellisia taitoja, kuten:\n",
    "    - kokeiden suunnittelua ja niiden toteuttamista\n",
    "    - datan keräämistä ja analysoimista\n",
    "    - tulosten esittämistä"
   ]
  },
  {
   "cell_type": "markdown",
   "metadata": {
    "slideshow": {
     "slide_type": "subslide"
    }
   },
   "source": [
    "## Arviointi\n",
    "- Jokaisesta osatyöstä palautetaan selostus, jonka perusteella osatyö arvioidaan arvosanalla 0-5.\n",
    "- Jokaiselle osatyölle oma arviointi matriisinsa.\n",
    "- Jokaisessa työssä mahdollisuus itsearviointiin.\n",
    "- Kurssin hyväksytysti suorittaminen edellyttää, että jokainen kolmesta osatyöstä on suoritettu vähintään arvosanalla 1/5. \n",
    "- Lopullinen arvosana määräytyy kurssin kolmen osatyön ja laskuharjoituspisteiden perusteella seuraavasti painottaen:\n",
    "    - Laskarit 25%\n",
    "    - Labra 1 25%\n",
    "    - Labra 2 25%\n",
    "    - Labra 3 25%"
   ]
  },
  {
   "cell_type": "markdown",
   "metadata": {
    "slideshow": {
     "slide_type": "skip"
    }
   },
   "source": [
    "---\n",
    "\n",
    "---"
   ]
  },
  {
   "cell_type": "markdown",
   "metadata": {
    "slideshow": {
     "slide_type": "slide"
    }
   },
   "source": [
    "# AOL II.1 \"Paistinpannu\"\n",
    "---\n",
    "Laskarien deadline 24.3. & selkkarin deadline 31.3.\n",
    "## Lämmönjohtavuus ja lämmönsiirto\n",
    "## Epälineaarisen funktion sovitus ja virhearviointi\n",
    "---\n",
    "\n",
    "---"
   ]
  },
  {
   "cell_type": "markdown",
   "metadata": {
    "slideshow": {
     "slide_type": "slide"
    }
   },
   "source": [
    "## Lämmönjohtuminen mikroskooppisella tasolla\n",
    "- Mitä on lämpö?"
   ]
  },
  {
   "cell_type": "markdown",
   "metadata": {
    "slideshow": {
     "slide_type": "subslide"
    }
   },
   "source": [
    "### Miten lämpö johtuu aineessa?\n",
    "- Energiaa siirtyy molekyylien/elektronien törmäyksissä tai fononien edetessä korkeamman energiatiheyden alueelta matalamman energiatiheyden alueelle.\n",
    "    - (fononi on kiteen värähtelyenergian kvantti)\n",
    "\n",
    "- Fluidi (esim. kaasu): Lämpö johtuu kaasumolekyylien törmäilyjen kautta. Kaasussa systeemin sisäenergia, tai lämpö, on kaasumolekyylien kineettistä energiaa (suoraviivaista liikeenergiaa sekä molekyylien rotaation ja vibraatioon liittyvää energiaa).\n",
    "\n",
    "- Eriste: Lämmön johtuminen on fononien etenemistä väliaineessa.\n",
    "\n",
    "- Metalli: Lämpö johtuu pääasiassa vapaitten elektronien (tai elektronien energian) diffuusiosta väliaineessa. Myös fononit kontribuoivat, mutta eivät niin merkittävissä määrin."
   ]
  },
  {
   "cell_type": "markdown",
   "metadata": {
    "slideshow": {
     "slide_type": "subslide"
    }
   },
   "source": [
    "###  Lämmönjohtavuus - Fourier'n laki\n",
    "$$ \\vec{q} = -k\\nabla T \\;\\; ,$$ missä:\n",
    "\n",
    "- $q=\\dfrac{\\Delta E}{\\Delta t \\Delta A}$ lämpövuo\n",
    "    - eli siirtyvä lämpö(energia) pinta-ala- ja aikayksikköä kohden \n",
    "    - eli siirtyvä lämpöteho pinta-alayksikköä kohden\n",
    "    - $[q] = \\mathrm{J/m^2 s}$\n",
    "- $k$ lämmönjohtavuus, $[k]  = \\mathrm{J/msK}$\n",
    "- $\\nabla T$ lämpötila-gradientti\n",
    "---\n",
    "- yksiulotteinen tarkastelu: $q_x = -k\\dfrac{\\mathrm{d}T}{\\mathrm{d}x}$"
   ]
  },
  {
   "cell_type": "markdown",
   "metadata": {
    "slideshow": {
     "slide_type": "subslide"
    }
   },
   "source": [
    "###  Lämmönsiirto - Newtonin laki\n",
    "- Kahden aineen rajapinnassa lämmönjohtavuus muuttuu äkisti.\n",
    "-  Newtonin jäähtymislaki postuloi:\n",
    "     - _”Kappaleen lämmönmenetyksen nopeus on suoraan verrannollinen kappaleen ja ympäristön väliseen lämpötilaeroon”_\n",
    "\n",
    "$$ P = \\dfrac{\\mathrm{d}Q}{\\mathrm{d}t} = h A (T(t) - T_0) = h A \\Delta T(t) \\;\\; ,$$ missä:\n",
    "\n",
    "- $Q$ kappaleen lämpöenergia\n",
    "- $h$ lämmönsiirtokerroin\n",
    "- $A$ kappaleen ja ympäristön rajapinnan pinta-ala\n",
    "- $T$ lämpötila\n",
    "---\n",
    "- lämpövuona ilmaistuna: $\\dfrac{\\mathrm{d}q}{\\mathrm{d}t} = h \\Delta T(t)$"
   ]
  },
  {
   "cell_type": "markdown",
   "metadata": {
    "slideshow": {
     "slide_type": "subslide"
    }
   },
   "source": [
    "###  Newtonin lain oletuksia\n",
    "- Lämmön johtumisen aikaskaala kappaleen sisällä on paljon lyhempi kuin lämmön siirtymisen kappaleesta pois. \n",
    "     - Minkälaisille systeemeille tämä pätee?\n",
    "- $h$ on lämpötilaerosta riippumaton\n",
    "    - Miksi pätee huonosti, jos esim. fluidissa jäähtyvälle kappaleelle, jos lämpötilaero kasvaa?\n",
    "- $h$ on käytännössä määritettävä kokeellisesti jokaiselle kappale-väliaine -parille\n",
    "    - --> alumiininen paistinpannu ilmassa"
   ]
  },
  {
   "cell_type": "markdown",
   "metadata": {
    "slideshow": {
     "slide_type": "subslide"
    }
   },
   "source": [
    "###  Labratyön koejärjestely\n",
    "- Sylinterisymmetrinen alumiini tanko\n",
    "    - Pituus $L$ ja säde $r$\n",
    "    - Lämmitetään toisesta päästä vakioteholla $P$\n",
    "    - Lämpö johtuu tankoa pitkin\n",
    "        - (radiaalinen johtuminen välitöntä)\n",
    "    - Lämpöä siirtyy tangon pinnasta ympäröivään ilmaan\n",
    "---\n",
    "- Muodosta systeemiä kuvaava differentiaaliyhtälö (Tehtävä 1)\n",
    "- Ratkaise differentiaaliyhtälö tasapainotilassa (Tehtävä 2 a)\n",
    "    - (Tangon lämpötilajakauma ei enää muutu ajassa)\n",
    "- Millaisia reunaehtoja systeemissä on. (Tehtävä 2 b ja c)"
   ]
  },
  {
   "cell_type": "markdown",
   "metadata": {
    "slideshow": {
     "slide_type": "subslide"
    }
   },
   "source": [
    "### Systeemi ja siinä tapahtuvat prosessit\n",
    "\n",
    "<img src=\"HeatTransfer.png\" width=\"800\">"
   ]
  },
  {
   "cell_type": "markdown",
   "metadata": {
    "slideshow": {
     "slide_type": "subslide"
    }
   },
   "source": [
    "### Differentiaali muodostaminen\n",
    "\n",
    "<img src=\"HeatTransferSlice.png\" width=\"800\">"
   ]
  },
  {
   "cell_type": "markdown",
   "metadata": {
    "slideshow": {
     "slide_type": "slide"
    }
   },
   "source": [
    "##  Epälineaarisen funktion sovitus\n",
    "- Suoransovittamiseen PNS-menetelmällä on olemassa analyyttinen ratkaisu. Käyrän sovittamiseen ei.\n",
    "- Voi toki kikkailla, jos mahdollista:\n",
    "    - esim. jos $y=bx^2$ voi datasta ottaa neliöjuuren ja sovittaa suoran $[y,x^2]$ koordinaatistossa\n",
    "    - mikäli sovitettava funktio $f$ on yhtään monimutkaisempi (_alumiinitangon lämpötilajakauma_), kikkailu ei onnistu\n",
    "        - tulee etsiä parametrit, jotka minimoivat $\\chi^2$ (khin neliön)"
   ]
  },
  {
   "cell_type": "markdown",
   "metadata": {
    "slideshow": {
     "slide_type": "subslide"
    }
   },
   "source": [
    "### Khin neliö\n",
    "\n",
    "$$\\chi^2 = \\sum_i \\dfrac{(y_i-f(p_1,p_2,...))^2}{{\\sigma_i}^2} \\;\\; ,$$ missä\n",
    "\n",
    "- $y_i$ mitattu arvo\n",
    "- $f(p_1,p_2,...)$ mittausta vastaava teoreettinen funktio\n",
    "    - $p_1, p_2, ...$ teoreettisen funktion vapaita parametreja\n",
    "- $\\sigma_i$ mitatun arvon $y_i$ keskihajonta"
   ]
  },
  {
   "cell_type": "markdown",
   "metadata": {
    "slideshow": {
     "slide_type": "subslide"
    }
   },
   "source": [
    "###  Minimointi iteroimalla\n",
    "- Arvataan funktion vapaat sovitusparametrit\n",
    "    - Mitä parempi arvaus sitä varmemmin ja nopeammin minimointi onnistuu\n",
    "- Ratkaistaan $\\chi^2$ ja muutetaan parametreja sopivasti, jotta selviää mihin suuntaan $\\chi^2$ muttuu\n",
    "- Iteroidaan paramterien muuttamista, kunnes $\\chi^2$ ei enää muutu pienemmäksi"
   ]
  },
  {
   "cell_type": "markdown",
   "metadata": {
    "slideshow": {
     "slide_type": "subslide"
    }
   },
   "source": [
    "#### Minimointiin liittyen\n",
    "- Haasteita:\n",
    "    - useita parametreja\n",
    "    - $\\chi^2$ minimoitaessa funktiota $f$ saattaa esiintyä lokaaleja minimejä\n",
    "    - käsin äärimmäisen raskasta\n",
    "- Työkalut:\n",
    "    - laskennalliset menetelmät ja funktiot\n",
    "    - python, matlab jne\n",
    "- HUOM! varmistu sovituksen onnistumisesta aina visuaalisesti\n",
    "    - piirrä mittausdata ja sovitusfunktio selvitetyillä parametreilla samaan kuvaan"
   ]
  },
  {
   "cell_type": "markdown",
   "metadata": {
    "slideshow": {
     "slide_type": "subslide"
    }
   },
   "source": [
    "###  Esimerkki käyrän sovituksesta\n",
    "\n",
    "- Tutkija haluaa määrittää puoliintumisajan kahdelle nuklidille.\n",
    "- Hän on laiska, eikä viitsi mitata hajoamisia yhtenään.\n",
    "    - Hän käsittämättömästi sekoittaa 1 MBq $\\mathrm{Co_{57}}$:a ja 1 MBq $\\mathrm{Po_{210}}$:a keskenään.\n",
    "\n",
    "| time (d) | activity (Bq) | std (Bq) |\n",
    "|----------|---------------|----------|\n",
    "|        0 |       1950000 |   100000 |\n",
    "|       30 |       1600000 |   100000 |\n",
    "|       60 |       1440000 |   100000 |\n",
    "|      200 |        690000 |    50000 |\n",
    "|      290 |        430000 |    50000 |\n",
    "|      400 |        320000 |    30000 |\n",
    "|      890 |         40000 |     1000 |\n"
   ]
  },
  {
   "cell_type": "markdown",
   "metadata": {
    "slideshow": {
     "slide_type": "subslide"
    }
   },
   "source": [
    "#### Teoreettinen malli ongelmalle\n",
    "- Hajoamislaki ja superpositioperiaate\n",
    "$$A_{tot}(t_i,\\tau_{\\mathrm{Co_{57}}},\\tau_{\\mathrm{Po_{210}}}) = A_{\\mathrm{Co_{57}}}\\mathrm{exp}\\left(\\dfrac{-t}{\\tau_{\\mathrm{Co_{57}}}}\\right) + A_{\\mathrm{Po_{210}}}\\mathrm{exp}\\left(\\dfrac{-t}{\\tau_{\\mathrm{Po_{210}}}}\\right)$$\n",
    "\n",
    "- Halutaan löytää parametreille $\\tau_{\\mathrm{Co_{57}}}$ ja $\\tau_{\\mathrm{Po_{210}}}$, jotka minimoivat funktion\n",
    "$$\\chi^2 = \\sum_i \\frac{(A_i-A_{tot}(t_i,\\tau_{\\mathrm{Co_{57}}},\\tau_{\\mathrm{Po_{210}}}))^2}{{\\sigma_i}^2}$$"
   ]
  },
  {
   "cell_type": "markdown",
   "metadata": {
    "slideshow": {
     "slide_type": "subslide"
    }
   },
   "source": [
    "####  Funktion sovitus"
   ]
  },
  {
   "cell_type": "code",
   "execution_count": null,
   "metadata": {
    "slideshow": {
     "slide_type": "fragment"
    }
   },
   "outputs": [],
   "source": [
    "# -*- coding: utf-8 -*-\n",
    "\n",
    "# ladataan pakolliset kirjastot\n",
    "import numpy as np\n",
    "from scipy.optimize import minimize\n",
    "import matplotlib.pyplot as plt\n",
    "\n",
    "# tutkijan data\n",
    "t = np.array([0,30,60,200,290,400,890]) # d\n",
    "A = np.array([1.95,1.60,1.44,0.69,0.43,0.32,0.04])*10**6 # Bq\n",
    "A_sig = np.array([0.1,0.1,0.1,0.05,0.05,0.03,0.001])*10**6 # Bq"
   ]
  },
  {
   "cell_type": "code",
   "execution_count": null,
   "metadata": {
    "slideshow": {
     "slide_type": "subslide"
    }
   },
   "outputs": [],
   "source": [
    "# määritetään teorian mukainen funktio\n",
    "def decay(t, *par):\n",
    "    tau1,tau2 = par\n",
    "    A1 = 1e6\n",
    "    A2 = 1e6\n",
    "    return A1*np.exp(-t/tau1) + A2*np.exp(-t/tau2)    \n",
    "\n",
    "# määritetään chi^2 funktio ongelman minimoimiseksi\n",
    "def chisq(par,t,A,A_err):\n",
    "    tau1,tau2 = par\n",
    "    return sum((A-decay(t,tau1,tau2))**2 / A_err**2 )"
   ]
  },
  {
   "cell_type": "code",
   "execution_count": null,
   "metadata": {
    "slideshow": {
     "slide_type": "subslide"
    }
   },
   "outputs": [],
   "source": [
    "# etsitään sopivat parametrit khin neliö minimoimalla\n",
    "p_init = [200,200] # tehdään arvaus alkuarvoille\n",
    "p_opt = minimize(chisq, # minimize chisq to the data\n",
    "                 p_init,\n",
    "                 args=(t, A, A_sig),\n",
    "                 bounds=[(0,400),(0,400)], # asetetaan parametreille rajat\n",
    "                 method=\"L-BFGS-B\" # tämä metodi mahdollistaa rajojen käyttämisen.\n",
    "                )\n",
    "p_opt"
   ]
  },
  {
   "cell_type": "code",
   "execution_count": null,
   "metadata": {
    "slideshow": {
     "slide_type": "skip"
    }
   },
   "outputs": [],
   "source": [
    "# minimoinnissa olla erityisesti kiinnostuttu\n",
    "# viimeistä rivistä eli chin neliön lausekkeeseen\n",
    "# annettujen sovitusparametrien arvoista p_opt.x\n",
    "\n",
    "# jos parametreille on haasteita määrittää ala- ja ylärajaa\n",
    "# tulee käyttää toisia menetelmiä\n",
    "p_opt = minimize(chisq, p_init, args=(t,A,A_sig), method=\"Nelder-mead\")\n",
    "p_opt"
   ]
  },
  {
   "cell_type": "code",
   "execution_count": null,
   "metadata": {
    "slideshow": {
     "slide_type": "subslide"
    }
   },
   "outputs": [],
   "source": [
    "# tallennetaan parametrit muuttujiin\n",
    "tau1 = p_opt.x[0]\n",
    "tau2 = p_opt.x[1]\n",
    "\n",
    "# luodaan 1000 sovituspistettä välille 0 - 900\n",
    "t_fit = np.linspace(0,900,1000)\n",
    "\n",
    "plt.errorbar(t,A,yerr=A_sig,fmt='b.',label='data')\n",
    "plt.plot(t_fit,decay(t_fit,tau1,tau2),'r-',label='sovitus')\n",
    "\n",
    "plt.axis([0,900,0,2*10**6])\n",
    "plt.ticklabel_format(axis='y', style='sci', scilimits=(0,0))\n",
    "\n",
    "plt.xlabel(r\"$t\\;$(d)\", fontsize = 12)\n",
    "plt.ylabel(r\"Aktiivisuus (Bq)\", fontsize = 12)\n",
    "plt.legend(loc='upper right', shadow=True, fontsize = 12)"
   ]
  },
  {
   "cell_type": "code",
   "execution_count": null,
   "metadata": {
    "slideshow": {
     "slide_type": "subslide"
    }
   },
   "outputs": [],
   "source": [
    "plt.show()"
   ]
  },
  {
   "cell_type": "markdown",
   "metadata": {
    "slideshow": {
     "slide_type": "slide"
    }
   },
   "source": [
    "##  Sovitusparametrien tarkkuus\n",
    "- Äskeisessä esimerkissä saatiin tuntemattomille parametreille (puoliintumisajat) arvoiksi\n",
    "    - 274.1065 d ja 131.8590 d\n",
    "- Koska tutkija on tarkka, hän haluaa määrittää puoliintumisajoille myös virheen.\n",
    "    - Mutta miten? Hänellä on vain 1 arvo kullekin parametrille, joten esim. hajonnan määrittäminen ei onnistu.\n",
    "- Ratkaisuja on paljon, mutta tutkija päättää käyttää aina toimivaa _\"brute force\"_ menetelmää:\n",
    "    - Monte Carlo simulaatio, joka pohjautuu keinotekoiseen (valistuneesti) _”arvattuun”_ mittausdataan."
   ]
  },
  {
   "cell_type": "markdown",
   "metadata": {
    "slideshow": {
     "slide_type": "subslide"
    }
   },
   "source": [
    "### Monte Carlo -menetelmä\n",
    "- Määritellään lähtödatan rajat eli mille välille arvausten tulee sijoittua\n",
    "    - esim. $\\pm$ mitattujen arvojen virhearvio tms.\n",
    "- Generoidaan lähtödata ja suoritetaan sillä tarvittavat laskelmat\n",
    "    - kuten tässä esimerkissä puoliintumisajat\n",
    "- Toistetaan datan generointi ja laskelmat tuhansia kertoja\n",
    "    - saadaan tuhansia arvoja puoliintumisajoille\n",
    "- Tehdään päätelmiä suoritettujen laskelmien tuloksien perusteella\n",
    "    - lasketaan esimerkiksi keskihajonta puoliintumisajoista\n",
    "\n",
    "Monte Carlo simulaatiolla on paljon käyttökohteita, kuten esim. sääennustusten parvimallit, säteilypakotteen määrittäminen, virtausmekaaniset simulaatiot, nanoskaalan faasitransitiot, jne...\n",
    "\n",
    "(Toinen vaihtoehto, mikäli joka pistessä x, useita mitattuja arvoja y:lle, on arpoa datasta useita sarjoja y(x). ”Bootstrapping”)"
   ]
  },
  {
   "cell_type": "markdown",
   "metadata": {
    "slideshow": {
     "slide_type": "subslide"
    }
   },
   "source": [
    "###  MC menetelmän soveltaminen edelliseen esimerkkiin\n",
    "- Oletetaan, että jokaisen mittauspisteen virhe on esim. normaalijakautunut.\n",
    "- Luodaan satoja tai tuhansia satunnaisarvoja jokaiselle mittausajanhetkelle $(t)$ mitattujen datapisteiden $(A_{tot})$ ympärille siten, että ne noudattavat normaalijakaumaa käyttäen mittauksen epävarmuutta, $\\sigma$, jakauman keskihajontana.\n",
    "- Lasketaan sovitusparametrit erikseen jokaiselle generoidulle datasarjalle kuten yllä.\n",
    "- Otetaan saaduista parametreista keskiarvo ja keskihajonta."
   ]
  },
  {
   "cell_type": "code",
   "execution_count": null,
   "metadata": {
    "slideshow": {
     "slide_type": "subslide"
    }
   },
   "outputs": [],
   "source": [
    "# luodaan esimerkiksi 10^6 uutta mittauspistettä\n",
    "# näytteen radioaktiivisuudelle 200 päivän kohdalle\n",
    "A200d = A[3] + np.random.randn(100) * A_sig[3]\n",
    "plt.hist(A200d,100)\n",
    "plt.show()"
   ]
  },
  {
   "cell_type": "code",
   "execution_count": null,
   "metadata": {
    "slideshow": {
     "slide_type": "subslide"
    }
   },
   "outputs": [],
   "source": [
    "%%time\n",
    "# määrätään simulaatioiden määrä\n",
    "nbr_of_sims = 10\n",
    "\n",
    "# alustetaan taulukko sovitusparametreille\n",
    "param_mcs = np.zeros((nbr_of_sims, 2))\n",
    "\n",
    "# simuloidaan\n",
    "for ind in range(nbr_of_sims):\n",
    "    # luodaan nomraalijakautuneita sarjoja dataa \n",
    "    rnd_A = A + A_sig*np.random.randn(len(A))\n",
    "    \n",
    "    # minimoidaan chi^2\n",
    "    q = minimize(chisq, p_opt.x, args=(t,rnd_A,A_sig), method=\"Nelder-Mead\")\n",
    "    \n",
    "    # lisätään listaan ratkaistut parametrit\n",
    "    param_mcs[ind,:]=q.x"
   ]
  },
  {
   "cell_type": "code",
   "execution_count": null,
   "metadata": {
    "slideshow": {
     "slide_type": "subslide"
    }
   },
   "outputs": [],
   "source": [
    "# lasketaan parametreille keskiarvo ja hajonta\n",
    "mean_param = np.mean(param_mcs, axis = 0)\n",
    "std_param = np.std(param_mcs, axis = 0)\n",
    "\n",
    "print('tau1 = {:.3f} +- {:.3f}'.format(mean_param[0],std_param[0]))\n",
    "print('tau2 = {:.3f} +- {:.3f}'.format(mean_param[1],std_param[1]))"
   ]
  },
  {
   "cell_type": "markdown",
   "metadata": {
    "slideshow": {
     "slide_type": "fragment"
    }
   },
   "source": [
    "- Oikea tulos\n",
    "    - $\\tau_{\\mathrm{Co_{57}}}\\approx 270$ d\n",
    "    - $\\tau_{\\mathrm{Po_{210}}}\\approx 138$ d\n",
    "- (Tosin tutkija ei tiedä kumpi on kumpi)"
   ]
  },
  {
   "cell_type": "markdown",
   "metadata": {
    "slideshow": {
     "slide_type": "subslide"
    }
   },
   "source": [
    "#### Tehdään julkaisukelpoinen kuva"
   ]
  },
  {
   "cell_type": "code",
   "execution_count": null,
   "metadata": {
    "slideshow": {
     "slide_type": "fragment"
    }
   },
   "outputs": [],
   "source": [
    "# legendin muotoilua\n",
    "eq = r'min($\\chi^2$)'\n",
    "eq += \"\\n\"\n",
    "eq += r'$A_{tot}(t,\\tau_1,\\tau_2) = $'\n",
    "eq += r'$A_1 e^{-(t/\\tau_1)} + A_2 e^{-(t/\\tau_2)}$'\n",
    "eq += \"\\n\"\n",
    "eq += r\"$\\tau_1=({}\\pm{})\\;$d\".format(round(mean_param[0],2),\n",
    "                                      round(std_param[0],2))\n",
    "eq += \"\\n\"\n",
    "eq += r\"$\\tau_2=({}\\pm{})\\;$d\".format(round(mean_param[1],2),\n",
    "                                      round(std_param[1],2))"
   ]
  },
  {
   "cell_type": "code",
   "execution_count": null,
   "metadata": {
    "slideshow": {
     "slide_type": "subslide"
    }
   },
   "outputs": [],
   "source": [
    "# plotataan kaikki monte carlo simuloidut sarjat\n",
    "for i in range(nbr_of_sims):\n",
    "    plt.plot(t_fit, decay(t_fit,*param_mcs[i]),'m-',alpha=(2/nbr_of_sims))\n",
    "    pass\n",
    "\n",
    "# ja plotataan itse sovite\n",
    "plt.plot(t_fit,decay(t_fit,mean_param[0],mean_param[1]),'r-',label=eq)\n",
    "\n",
    "# sekä itse data\n",
    "plt.errorbar(t,A,yerr=A_sig,fmt = 'bx', capsize=3, alpha=.6 ,label='Data')\n",
    "\n",
    "plt.tight_layout()\n",
    "plt.axis([0,900,0,2*10**6])\n",
    "\n",
    "plt.ticklabel_format(style='sci', axis='y', scilimits=(0,0))\n",
    "plt.xlabel(r\"$t\\;$(d)\", fontsize = 12)\n",
    "plt.ylabel(r\"Aktiivisuus (Bq)\", fontsize = 12)\n",
    "plt.legend(loc='upper right', shadow=True, fontsize = 12)"
   ]
  },
  {
   "cell_type": "code",
   "execution_count": null,
   "metadata": {
    "slideshow": {
     "slide_type": "subslide"
    }
   },
   "outputs": [],
   "source": [
    "plt.show()"
   ]
  }
 ],
 "metadata": {
  "kernelspec": {
   "display_name": "Python 3",
   "language": "python",
   "name": "python3"
  },
  "language_info": {
   "codemirror_mode": {
    "name": "ipython",
    "version": 3
   },
   "file_extension": ".py",
   "mimetype": "text/x-python",
   "name": "python",
   "nbconvert_exporter": "python",
   "pygments_lexer": "ipython3",
   "version": "3.6.1"
  },
  "livereveal": {
   "autolaunch": true
  }
 },
 "nbformat": 4,
 "nbformat_minor": 2
}
