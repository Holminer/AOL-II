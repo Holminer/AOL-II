{
 "cells": [
  {
   "cell_type": "markdown",
   "metadata": {
    "slideshow": {
     "slide_type": "slide"
    }
   },
   "source": [
    "# FYS2009 - Aineopintojen laboratoriotyöt II\n",
    "---\n",
    "**19.3.2019**\n",
    "## Kurssikäytänteitä & vinkkejä työskentelyyn\n",
    "## Pajatyöskentelyä laskareihin ja selkkareihin"
   ]
  },
  {
   "cell_type": "markdown",
   "metadata": {
    "slideshow": {
     "slide_type": "subslide"
    }
   },
   "source": [
    "## Palautuskäytänteitä\n",
    "- Palauta selostuksesti .pdf-muotoisena.\n",
    "    - Laita liitteeksi analyysissä käyttämäsi koodi.\n",
    "    - Saa mieluusti olla erillisenä tiedostona esim. koodi.py\n",
    "- Lisäämällä assistenttisi sukunimen palautustiedostoon, nopeutat arviointityötä.\n",
    "    - Esim. Paistinpannu_Lommi_Clusius.pdf\n",
    "- Kohdennetumpaa arviointia varten kirjoita palautuksen kommenttikenttään lyhyt itsearviointi selostuksesta ja ehdota perustellusti itsellesi arvosanaa työstä ja kerro mitä arvosanaa tavoittelit"
   ]
  },
  {
   "cell_type": "markdown",
   "metadata": {
    "slideshow": {
     "slide_type": "subslide"
    }
   },
   "source": [
    "### Esim. Lämmönjohtumistyö\n",
    "- *__Tavoittelin arvosanaa__ 4*\n",
    "- *__Mallinnus ja analyysi__: 3, Sain johdettua lämpötilajakaumalle teoreettisen mallin, jonka sovitin mittaustuloksiini ja sain selvitettyä teoriassa esiintyville parametreille arvot. Vertasin arvoja kirjallisuusarvoihin, mutta en määrittänyt näille tarkkuusarviota.*\n",
    "- *__Sovellus__: 3, Muodostin teoreettisen ennusteen kahvan lämpötilajakaumalle, joka muuttuu pituuden muuttuessa. Tämän perusteella design pannua ei ole mahdollista toteuttaa. Lämpötilajakauman ennusteelle en esitä tarkkuusarviota, enkä ole optimoinut kahvan geometriaa.*\n",
    "- *__Mallinnus ja analyysi__: 4, Mielestäni selostuksessani on kaikki osiot ja ne ovat oikeassa järjestyksessä. Koejärjestelyn kuvaukseni ja tulosten analysointini on esitetty siten, että kurssia käymätön teoreettinen fyysiikko voisi työn toistaa. Selostukseni noudattaa tieteellisen kirjoittaminsen muotoiluja ja viittauskäytänteitä.*\n",
    "- *__Arvosanaehdotus__: 3*"
   ]
  },
  {
   "cell_type": "markdown",
   "metadata": {
    "slideshow": {
     "slide_type": "subslide"
    }
   },
   "source": [
    "#### ... tai lyhyemmin\n",
    "\n",
    "> - *__Mallinnus ja analyysi__: 3*\n",
    "> - *__Sovellus__: 3*\n",
    "> - *__Mallinnus ja analyysi__: 4*\n",
    "> - *__Arvosanaehdotus__: 3*"
   ]
  },
  {
   "cell_type": "markdown",
   "metadata": {
    "slideshow": {
     "slide_type": "slide"
    }
   },
   "source": [
    "## Tieteellisen kirjoittamisen käytännön vinkkejä\n",
    "### Osa 1 - tyypillisimpiä kipukohtia"
   ]
  },
  {
   "cell_type": "markdown",
   "metadata": {
    "slideshow": {
     "slide_type": "subslide"
    }
   },
   "source": [
    "- Mikä seuraavista on oikein, kun ilmoitetaan tulos ja sen tarkkuus jossain yksikössä:\n",
    "    - $(12.34 \\pm 1.23) \\; \\mathrm{mm}$\n",
    "    - $(12,34 \\pm 1,2334) \\; \\mathrm{mm}$\n",
    "    - $(12,34 \\pm 1,23) \\mathrm{mm}$        \n",
    "    - $(12,34 \\pm 1,23) \\; mm$        \n",
    "    - $12,34 \\pm 1,23 \\; \\mathrm{mm}$        \n",
    "    - $(12,34 \\pm 1,23) \\; \\mathrm{mm}$        "
   ]
  },
  {
   "cell_type": "markdown",
   "metadata": {
    "slideshow": {
     "slide_type": "fragment"
    }
   },
   "source": [
    "- $\\LaTeX$:ssa $(12,34 \\pm 1,23) \\; \\mathrm{mm}$ kirjoitetaan esim muodossa\n",
    "    - `(12,34 \\pm 1,23) \\; \\mathrm{mm}`"
   ]
  },
  {
   "cell_type": "markdown",
   "metadata": {
    "slideshow": {
     "slide_type": "subslide"
    }
   },
   "source": [
    "- Mikä seuraavista on oikein, kun kirjoitetaan funktiota:\n",
    "    -    $f(x) = \\ln(x)\\cos(x)$\n",
    "    -    $f(x) = ln(x)\\cos(x)$    \n",
    "    -    $f(x) = \\ln(x)cos(x)$    "
   ]
  },
  {
   "cell_type": "markdown",
   "metadata": {
    "slideshow": {
     "slide_type": "fragment"
    }
   },
   "source": [
    "- $\\LaTeX$:ssa $f(x) = \\ln(x)\\cos(x)$ kirjoitetaan muodossa\n",
    "    - `f(x) = \\ln(x)\\cos(x)`"
   ]
  },
  {
   "cell_type": "markdown",
   "metadata": {
    "slideshow": {
     "slide_type": "subslide"
    }
   },
   "source": [
    "### Kuvaajien tulkinnasta - Esim AOL1.2\n",
    "<img src=\"Cs137spektri.png\" width=\"400\">\n",
    "\n",
    "- x-akselilla energiaan suhteellinen pulssikorkeus ja y-akselilla pulssikorkeutta vastaavien hajoamisten määrä.\n",
    "- Vaaka-akselilla energiaan suhteellinen pulssikorkeus ja pystyakselilla pulssikorkeutta vastaavien hajoamisten määrä."
   ]
  },
  {
   "cell_type": "markdown",
   "metadata": {
    "slideshow": {
     "slide_type": "fragment"
    }
   },
   "source": [
    "---\n",
    "\n",
    "- Fysiikassa harvoin kuvaajissa on x ja y-akselit.\n",
    "    - akseleilla muuttujina eivät ole x ja y vaan esim. matka, lämpötila, aika, tms."
   ]
  },
  {
   "cell_type": "markdown",
   "metadata": {
    "slideshow": {
     "slide_type": "subslide"
    }
   },
   "source": [
    "### Sovituksista - AOL1.3\n",
    "<img src=\"tuningfork_analysis.png\">\n",
    "\n",
    "- Sovitukselle tulee aina olla jokin peruste!\n",
    "- Oletetaan ääniraudan palkin värähtelevän [Euler-Bernoullin palkkiyhtälön](https://en.wikipedia.org/wiki/Euler%E2%80%93Bernoulli_beam_theory) mukaisesti.\n",
    "- Toisesta päästä kiinnitetyn ja toisesta vapaana roikkuvan palkin ensimmäinen värähtelymoodi voidaan esittää muodossa:\n",
    "\n",
    "$$ w_1(x) = A_1 \\left[ \\left( \\cosh(\\beta_1 x) - \\cos(\\beta_1 x) \\right) + \\dfrac{\\cosh(\\beta_1 L) + \\cos(\\beta_1 L)}{\\sin(\\beta_1 L) + \\sinh(\\beta_1 L)} \\left( \\sin(\\beta_1 x) - \\sinh(\\beta_1 x) \\right) \\right] \\;\\;,$$\n",
    "- missä $A_1$ on värähtelyn amplitudi, $L$ palkin pituus ja $\\beta_1$ 1. värähtelymoodin määräävä vakio, joka voidaan numeerisesti ratkaista muotoon $ \\beta_1 \\approx 0.59686 \\dfrac{\\pi}{L}$"
   ]
  },
  {
   "cell_type": "markdown",
   "metadata": {
    "slideshow": {
     "slide_type": "slide"
    }
   },
   "source": [
    "## Tieteellisen laskennan käytännön vinkkejä"
   ]
  },
  {
   "cell_type": "markdown",
   "metadata": {
    "slideshow": {
     "slide_type": "fragment"
    }
   },
   "source": [
    "### Notebookit\n",
    "- Tehokas ympäristö tieteelliseen laskentaan ja data-analyysiin on Jupyter\n",
    "    - Notebook ympäristö, jossa yhdistyy tieteellinen kirjoittaminen, koodaus ja audiovisuaalinen media\n",
    "    - Saatavilla lukuisille eri ohjelmointikielille ja hyvin kustomoitavissa omiin tarpeisiin.\n",
    "        - Nämä kalvot luotu Jupyter-ympäristössä\n",
    "    - Kannattaa tutustua tarkemmin HIP:n laatiman tutoriaalin avulla\n",
    "        - [![Binder](https://mybinder.org/badge_logo.svg)](https://mybinder.org/v2/gh/cms-opendata-education/cms-jupyter-materials-finnish/master?filepath=%2FJohdatus-jupyteriin%2FJupyter-aloitus.ipynb)\n",
    "        - Lataamisessa saattaa kestää useita minuutteja, mutta ole kärsivällinen\n",
    "        - Sisältää ohjeistuksen asentamiseen ja käyttämiseen"
   ]
  },
  {
   "cell_type": "markdown",
   "metadata": {
    "slideshow": {
     "slide_type": "subslide"
    }
   },
   "source": [
    "### Moduulit, kirjastot, jne.\n",
    "- Pythoniin saatavilla lukuisia kirjastoja, moduuleja, yms.\n",
    "    - Aina kun otat uuden työkalun käyttöön, vilkaiset työkalun Help osio\n",
    "    - esim. Pythonin matematiikka moduuli\n",
    "    \n",
    "```python    \n",
    "import math\n",
    "help(math)\n",
    "```"
   ]
  },
  {
   "cell_type": "markdown",
   "metadata": {
    "slideshow": {
     "slide_type": "subslide"
    }
   },
   "source": [
    "### Esimerkki helpin käyttämisestä\n",
    "- Usein laskennassa tarvitaan monenlaisia luonnonvakioita.\n",
    "    - Voidaan erikseen määrittää jokaiselle muuttuja ... esim. `c=299792458.0 #m/s`\n",
    "    - Tai sitten käytetään valmista ohjelmointikirjasto/moduulia/tms."
   ]
  },
  {
   "cell_type": "code",
   "execution_count": null,
   "metadata": {
    "slideshow": {
     "slide_type": "subslide"
    }
   },
   "outputs": [],
   "source": [
    "# scipy.constants on monipuolinen moduuli\n",
    "# pitää sisällään muun muassa likiarvoja luonnonvakioista\n",
    "# sekä muutamista käytetyimmistä matemaattisista irrationaaliluvuista\n",
    "\n",
    "import scipy.constants as cnts"
   ]
  },
  {
   "cell_type": "code",
   "execution_count": null,
   "metadata": {
    "slideshow": {
     "slide_type": "fragment"
    }
   },
   "outputs": [],
   "source": [
    "help(cnts)"
   ]
  },
  {
   "cell_type": "code",
   "execution_count": null,
   "metadata": {
    "slideshow": {
     "slide_type": "subslide"
    }
   },
   "outputs": [],
   "source": [
    "# etsitään esimerkiksi Planckin vakio käyttöön \n",
    "cnts.find('Planck')"
   ]
  },
  {
   "cell_type": "code",
   "execution_count": null,
   "metadata": {
    "slideshow": {
     "slide_type": "fragment"
    }
   },
   "outputs": [],
   "source": [
    "# Etsitään vakion arvo, yksikkö ja sen tarkkuus\n",
    "cnts.physical_constants['Planck constant']"
   ]
  },
  {
   "cell_type": "code",
   "execution_count": null,
   "metadata": {
    "slideshow": {
     "slide_type": "fragment"
    }
   },
   "outputs": [],
   "source": [
    "# otetaan käyttöön vain pelkkä arvo\n",
    "print(cnts.physical_constants['Planck constant'][0])\n",
    "\n",
    "# tai lyhyemmin\n",
    "print(cnts.value('Planck constant'))\n",
    "\n",
    "# tai vielä lyhyemmin\n",
    "print(cnts.h)"
   ]
  },
  {
   "cell_type": "markdown",
   "metadata": {
    "slideshow": {
     "slide_type": "subslide"
    }
   },
   "source": [
    "### Matplotlib Jupyterissä\n",
    "- Koska Jupyter pyörii selaimessa, ei sieltä käsin voida avata suoraan omalle koneelle asennettua matplotlibin omaa interaktiivista ikkunaa.\n",
    "- Jos haluat ottaa käyttöön kuvaajan interaktiiviset työkalut, tulee notebookissa suorittaa komento\n",
    "    - `%matplotlib notebook`"
   ]
  },
  {
   "cell_type": "code",
   "execution_count": null,
   "metadata": {
    "slideshow": {
     "slide_type": "subslide"
    }
   },
   "outputs": [],
   "source": [
    "%matplotlib notebook\n",
    "import matplotlib.pyplot as plt\n",
    "\n",
    "plt.plot([0,1],[2,3])\n",
    "plt.show()"
   ]
  },
  {
   "cell_type": "markdown",
   "metadata": {
    "slideshow": {
     "slide_type": "subslide"
    }
   },
   "source": [
    "- Jos haluat poistaa käytöstä kuvaajan interaktiiviset työkalut, tulee notebookissa suorittaa komento\n",
    "    - `%matplotlib inline`"
   ]
  },
  {
   "cell_type": "code",
   "execution_count": null,
   "metadata": {
    "slideshow": {
     "slide_type": "fragment"
    }
   },
   "outputs": [],
   "source": [
    "%matplotlib inline\n",
    "\n",
    "plt.plot([0,1],[2,3])\n",
    "plt.show()"
   ]
  },
  {
   "cell_type": "markdown",
   "metadata": {
    "slideshow": {
     "slide_type": "subslide"
    }
   },
   "source": [
    "## Pajatyöskentelyä\n",
    "- Apua laskareihin\n",
    "- Selkkareihin\n",
    "- Esim. voidaan käydä läpi jupyter notebookin asentaminen\n",
    "    - myös ohjelmointia notebook-ympäristössä, jos siltä tuntuu?"
   ]
  },
  {
   "cell_type": "markdown",
   "metadata": {
    "slideshow": {
     "slide_type": "slide"
    }
   },
   "source": [
    "### Jupyter Notebookin asentaminen fuxiläppärille\n",
    "```\n",
    "python3 -m pip install --upgrade pip\n",
    "python3 -m pip install jupyter\n",
    "\n",
    "jupyter notebook\n",
    "```"
   ]
  }
 ],
 "metadata": {
  "kernelspec": {
   "display_name": "Python 3",
   "language": "python",
   "name": "python3"
  },
  "language_info": {
   "codemirror_mode": {
    "name": "ipython",
    "version": 3
   },
   "file_extension": ".py",
   "mimetype": "text/x-python",
   "name": "python",
   "nbconvert_exporter": "python",
   "pygments_lexer": "ipython3",
   "version": "3.6.1"
  },
  "livereveal": {
   "autolaunch": true
  }
 },
 "nbformat": 4,
 "nbformat_minor": 2
}
