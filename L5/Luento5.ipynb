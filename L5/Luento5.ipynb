{
 "cells": [
  {
   "cell_type": "markdown",
   "metadata": {
    "slideshow": {
     "slide_type": "slide"
    }
   },
   "source": [
    "# FYS2009 - Aineopintojen laboratoriotyöt II\n",
    "---\n",
    "**9.4.2019**"
   ]
  },
  {
   "cell_type": "markdown",
   "metadata": {
    "slideshow": {
     "slide_type": "slide"
    }
   },
   "source": [
    "# AOL II.3 \"Faradayn ilmiö\"\n",
    "---\n",
    "Laskarien deadline 28.4. & selkkarin deadline 5.5.\n",
    "\n",
    "## Faradayn ilmiö - Roadmap ilmiön selittämiseksi\n",
    "- Laskareissa esitetään koko roadmap\n",
    "\n",
    "---"
   ]
  },
  {
   "cell_type": "markdown",
   "metadata": {
    "slideshow": {
     "slide_type": "subslide"
    }
   },
   "source": [
    "## Faradayn ilmiö\n",
    "- https://www.youtube.com/watch?v=XhU-nNiAgtI"
   ]
  },
  {
   "cell_type": "code",
   "execution_count": 1,
   "metadata": {
    "slideshow": {
     "slide_type": "fragment"
    }
   },
   "outputs": [
    {
     "data": {
      "text/html": [
       "<iframe width=\"800\" height=\"450\" src=\"https://www.youtube.com/embed/XhU-nNiAgtI\" frameborder=\"0\" allow=\"accelerometer; autoplay; encrypted-media; gyroscope; picture-in-picture\" allowfullscreen></iframe>"
      ],
      "text/plain": [
       "<IPython.core.display.HTML object>"
      ]
     },
     "metadata": {},
     "output_type": "display_data"
    }
   ],
   "source": [
    "%%HTML\n",
    "<iframe width=\"800\" height=\"450\" src=\"https://www.youtube.com/embed/XhU-nNiAgtI\" frameborder=\"0\" allow=\"accelerometer; autoplay; encrypted-media; gyroscope; picture-in-picture\" allowfullscreen></iframe>"
   ]
  },
  {
   "cell_type": "markdown",
   "metadata": {
    "slideshow": {
     "slide_type": "subslide"
    }
   },
   "source": [
    "## Ilmiötä kuvaava systeemi\n",
    "\n",
    "<img src=\"faraday.png\" width=\"800\">\n",
    "\n",
    "Väliaineen yli vaikuttaa aallon etenemissuuntainen magneettikenttä $B$"
   ]
  },
  {
   "cell_type": "markdown",
   "metadata": {
    "slideshow": {
     "slide_type": "subslide"
    }
   },
   "source": [
    "## Ilmiötä kuvaava simulaatio\n",
    "- https://www.geogebra.org/m/nnv3ghfp"
   ]
  },
  {
   "cell_type": "code",
   "execution_count": 2,
   "metadata": {
    "slideshow": {
     "slide_type": "fragment"
    }
   },
   "outputs": [
    {
     "data": {
      "text/html": [
       "<iframe width=\"800\" height=\"480\" src=\"https://www.geogebra.org/material/iframe/id/nnv3ghfp/width/800/height/480/border/888888/rc/false/ai/false/sdz/false/smb/false/stb/false/stbh/false/ld/false/sri/true/sfsb/false\"></iframe>"
      ],
      "text/plain": [
       "<IPython.core.display.HTML object>"
      ]
     },
     "metadata": {},
     "output_type": "display_data"
    }
   ],
   "source": [
    "%%HTML\n",
    "<iframe width=\"800\" height=\"480\" src=\"https://www.geogebra.org/material/iframe/id/nnv3ghfp/width/800/height/480/border/888888/rc/false/ai/false/sdz/false/smb/false/stb/false/stbh/false/ld/false/sri/true/sfsb/false\"></iframe>"
   ]
  },
  {
   "cell_type": "markdown",
   "metadata": {
    "slideshow": {
     "slide_type": "subslide"
    }
   },
   "source": [
    "## [Laskarit 3](https://moodle.helsinki.fi/pluginfile.php/2249628/mod_assign/intro/AOLII3L.pdf) - roadmap ilmiön selittämiseksi\n",
    "- Mallinnetaan väliaineen varatut hiukkaset tasapainoasemaan harmonisesti sidottuina.\n",
    "    - Smg-aalto + $B$-kenttä  $\\longrightarrow$ liikeyhtälö.\n",
    "    - Havaitaan, että hiukkanen ei värähtele sähkökentän suunnassa\n",
    "    - $x$- ja $y$-komponentit sekoittuvat\n",
    "    - (laskaritehtävä 1)\n",
    "- Etsitään $(\\hat{x},\\hat{y})$-koordinaatiston sijaan uusi $(\\hat{u}_+,\\hat{u}_-)$-koordinaatisto, jossa liikkeen komponentit eivät sekoitu.\n",
    "    - Matemaattinen käsittely yksinkertaistuu\n",
    "    - Uudessa koortinaatistossa esitettynä smg-aallon sähkökenttä vastaa oikea- tai vasenkätisesti polaroitua aaltoa\n",
    "    - Alkuperäinen lineaarisesti polaroitunut aalto voidaan esittää kahden ympyräpolaroidun aallon summana.\n",
    "    - (laskaritehtävä 2)"
   ]
  },
  {
   "cell_type": "markdown",
   "metadata": {
    "slideshow": {
     "slide_type": "subslide"
    }
   },
   "source": [
    "- Entä jos em. kahden ympyräpolaroidun aaltojen taitekertoimet eroavat toisistaan hieman?\n",
    "    - Havaitaan, että tällöin polarisaatiotaso kiertyy\n",
    "    - (laskaritehtävä 3)\n",
    "- Ratkaistaan liikeyhtälö uudessa koordinaatistossa, jotta selviää millaisella amplitudilla hiukkaset värähtelevät tasapainoasemansa ympärilä.\n",
    "    - Em. poikkeamista aiheutuu dipolimomentteja väliaineeseen\n",
    "    - Väliaine polarisoituu\n",
    "    - Väliaineen permittiivisyys eroaa tyhjiön vastaavasta\n",
    "    - Taitekerroin eroaa tyhjiön vastaavasta\n",
    "    - (laskaritehtävä 4)"
   ]
  },
  {
   "cell_type": "markdown",
   "metadata": {
    "slideshow": {
     "slide_type": "subslide"
    }
   },
   "source": [
    "###  Kompleksiesitys\n",
    "\n",
    "Lineaarisesti polaroidun smg-aallon sähkökentän esitys \n",
    "\n",
    "$$ \\vec{E}(z,t) = E_0 \\hat{x}e^{i(kz-\\omega t)} $$\n",
    "\n",
    "Fysikaalisesti mitattava sähkökenttä on tämän esityksen reaaliosa\n",
    "\n",
    "$$ \\mathrm{Re} \\left[ \\vec{E}(z,t) \\right] = E_0 \\hat{x}\\cos (kz-\\omega t)$$\n",
    "\n",
    "Aalto etenee $z$-akselin suuntaisesti, värähtelee ajassa kulmataajuudella $\\omega$ ja sen sähkökenttä on $x$-akselin suunnassa.\n"
   ]
  },
  {
   "cell_type": "markdown",
   "metadata": {
    "slideshow": {
     "slide_type": "subslide"
    }
   },
   "source": [
    "###  Liikeyhtälö\n",
    "\n",
    "Laskarien liikeyhtälö matriisi muodossa\n",
    "\n",
    "$$ \\begin{align} \\begin{pmatrix} W & i\\omega q B \\\\ -i\\omega q B & W \\end{pmatrix} \\begin{pmatrix} x \\\\ y \\end{pmatrix} &= q \\begin{pmatrix} E_x \\\\ E_y \\end{pmatrix} \\\\ \\\\ \\mathbf{Mr} &= q \\mathbf{E} \\end{align}$$\n",
    "\n",
    "Matriisi $\\mathbf{M}$ ei ole diagonaalinen ja siksi LY:ssä $x$ ja $y$-komponentit sekoittuvat. Yksikkovektorit tässä koordinaatistossa ovat\n",
    "\n",
    "$$ \\hat{x} = \\begin{pmatrix} 1 \\\\ 0 \\end{pmatrix} ~~~~~~~~~~ \\hat{y} = \\begin{pmatrix} 0 \\\\ 1 \\end{pmatrix} $$"
   ]
  },
  {
   "cell_type": "markdown",
   "metadata": {
    "slideshow": {
     "slide_type": "subslide"
    }
   },
   "source": [
    "### Ominaisarvot ja vektorit\n",
    "Etsitään yksikkövektorit, joiden avulla lausuttuna $\\mathbf{M}$ olisi diagonaalinen. Matriisin ominaisarvot ovat\n",
    "\n",
    "$$ \\lambda_1 = W - \\omega q B ~~~~~~~~~~ \\lambda_2 = W + \\omega q B $$\n",
    "\n",
    "Näitä vastaavat ominaisvektorit ovat\n",
    "\n",
    "$$ \\hat{u}_+ = \\dfrac{1}{\\sqrt{2}} \\begin{pmatrix} 1 \\\\ i \\end{pmatrix} = \\dfrac{1}{\\sqrt{2}} \\left(\\hat{x} + i \\hat{y}\\right) ~~~~\\text{ja}~~~~ \\hat{u}_- = \\dfrac{1}{\\sqrt{2}} \\begin{pmatrix} 1 \\\\ -i \\end{pmatrix} = \\dfrac{1}{\\sqrt{2}} \\left(\\hat{x} - i \\hat{y}\\right)$$"
   ]
  },
  {
   "cell_type": "markdown",
   "metadata": {
    "slideshow": {
     "slide_type": "subslide"
    }
   },
   "source": [
    "### Ympyräpolaroitu aalto\n",
    "\n",
    "<img src=\"koordinaatisto.svg\" width=\"600\">\n",
    "\n",
    "OIKEAKÄTINEN YMPYRÄPOLARISAATIO:\n",
    "- Kun havaitsija katsoo lähdettä kohti, sähkökenttä kiertyy ajan funktiona oikean käden sormien mukaan (eli vastapäivään) kun peukalo osoittaa aallon etenemissuuntaan.\n",
    "\n",
    "VASENKÄTINEN YMPYRÄPOLARISAATIO:\n",
    "- Kun havaitsija katsoo lähdettä kohti, sähkökenttä kiertyy ajan funktiona vasemman käden sormien mukaan (eli myötäpäivään) kun peukalo osoittaa aallon etenemissuuntaan."
   ]
  },
  {
   "cell_type": "markdown",
   "metadata": {
    "slideshow": {
     "slide_type": "subslide"
    }
   },
   "source": [
    "### Liikeyhtälön ratkaisu\n",
    "\n",
    "Smg-aallon sähkökenttä origossa $(z=0)$ uudessa koordinaatistossa\n",
    "\n",
    "$$ \\vec{E}(t) =  \\left(E_+ \\hat{u}_+ + E_- \\hat{u}_-\\right)e^{-i \\omega t} $$\n",
    "\n",
    "Yrite\n",
    "\n",
    "$$ \\vec{r}(t) =  \\left(r_+ \\hat{u}_+ + r_- \\hat{u}_-\\right)e^{-i \\omega t} $$\n",
    "\n",
    "ratkaisee liikeyhtälön ja amplitudeiksi saadaan\n",
    "\n",
    "$$ r_\\pm = \\dfrac{q}{W \\mp \\omega q B} E_\\pm $$"
   ]
  },
  {
   "cell_type": "markdown",
   "metadata": {
    "slideshow": {
     "slide_type": "subslide"
    }
   },
   "source": [
    "## Lisälukemistoa\n",
    "\n",
    "Ilmiöstä ja teoriasta\n",
    "- [Faradayn ilmiö](https://en.wikipedia.org/wiki/Faraday_effect)\n",
    "- [Optinen rotaatio](https://en.wikipedia.org/wiki/Optical_rotation)\n",
    "- [Faradayn kierrin](https://en.wikipedia.org/wiki/Faraday_rotator)\n",
    "- [Verdet'n vakio](https://en.wikipedia.org/wiki/Verdet_constant)\n",
    "\n",
    "Sovelluksista\n",
    "- [Elintarvikeväärennösten tunnistus](https://www.researchgate.net/publication/260969155_On_the_Usage_of_the_Faraday_Effect_as_an_Authentication_Technique_for_Vegetable_Oils)\n",
    "- [Optinen diodi](https://en.wikipedia.org/wiki/Optical_isolator)"
   ]
  }
 ],
 "metadata": {
  "celltoolbar": "Slideshow",
  "kernelspec": {
   "display_name": "Python 3",
   "language": "python",
   "name": "python3"
  },
  "language_info": {
   "codemirror_mode": {
    "name": "ipython",
    "version": 3
   },
   "file_extension": ".py",
   "mimetype": "text/x-python",
   "name": "python",
   "nbconvert_exporter": "python",
   "pygments_lexer": "ipython3",
   "version": "3.6.1"
  },
  "livereveal": {
   "autolaunch": true
  }
 },
 "nbformat": 4,
 "nbformat_minor": 2
}
